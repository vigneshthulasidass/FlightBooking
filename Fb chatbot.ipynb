{
 "cells": [
  {
   "cell_type": "code",
   "execution_count": null,
   "metadata": {},
   "outputs": [],
   "source": [
    "from fbchat import log\n",
    "from fbchat import Client"
   ]
  },
  {
   "cell_type": "code",
   "execution_count": null,
   "metadata": {},
   "outputs": [],
   "source": [
    "from fbchat import log, Client\n",
    "\n",
    "# Subclass fbchat.Client and override required methods\n",
    "class EchoBot(Client):\n",
    "    def onMessage(self, author_id, message_object, thread_id, thread_type, **kwargs):\n",
    "        self.markAsDelivered(thread_id, message_object.uid)\n",
    "        self.markAsRead(thread_id)\n",
    "\n",
    "        log.info(\"{} from {} in {}\".format(message_object, thread_id, thread_type.name))\n",
    "\n",
    "        # If you're not the author, echo\n",
    "        if author_id != self.uid:\n",
    "            x = message_object.split(\",\")\n",
    "            final_answer = delay_prediction(x[0], x[1], x[2])\n",
    "            \n",
    "            self.send(final_answer, thread_id=thread_id, thread_type=thread_type)\n",
    "\n",
    "\n",
    "client = EchoBot(\"vignesht.adiuva@gmail.com\", \"Viggy.02\")\n",
    "client.listen()"
   ]
  },
  {
   "cell_type": "code",
   "execution_count": null,
   "metadata": {},
   "outputs": [],
   "source": []
  }
 ],
 "metadata": {
  "kernelspec": {
   "display_name": "Python 3",
   "language": "python",
   "name": "python3"
  },
  "language_info": {
   "codemirror_mode": {
    "name": "ipython",
    "version": 3
   },
   "file_extension": ".py",
   "mimetype": "text/x-python",
   "name": "python",
   "nbconvert_exporter": "python",
   "pygments_lexer": "ipython3",
   "version": "3.7.4"
  }
 },
 "nbformat": 4,
 "nbformat_minor": 2
}
